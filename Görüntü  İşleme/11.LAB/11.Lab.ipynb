{
 "cells": [
  {
   "cell_type": "code",
   "execution_count": 13,
   "metadata": {},
   "outputs": [
    {
     "ename": "ModuleNotFoundError",
     "evalue": "No module named 'cv2'",
     "output_type": "error",
     "traceback": [
      "\u001b[1;31m---------------------------------------------------------------------------\u001b[0m",
      "\u001b[1;31mModuleNotFoundError\u001b[0m                       Traceback (most recent call last)",
      "\u001b[1;32m<ipython-input-13-c9e9042d39ed>\u001b[0m in \u001b[0;36m<module>\u001b[1;34m\u001b[0m\n\u001b[0;32m      2\u001b[0m \u001b[1;32mimport\u001b[0m \u001b[0mnumpy\u001b[0m \u001b[1;32mas\u001b[0m \u001b[0mnp\u001b[0m\u001b[1;33m\u001b[0m\u001b[1;33m\u001b[0m\u001b[0m\n\u001b[0;32m      3\u001b[0m \u001b[1;32mimport\u001b[0m \u001b[0mos\u001b[0m\u001b[1;33m.\u001b[0m\u001b[0mpath\u001b[0m\u001b[1;33m\u001b[0m\u001b[1;33m\u001b[0m\u001b[0m\n\u001b[1;32m----> 4\u001b[1;33m \u001b[1;32mimport\u001b[0m \u001b[0mcv2\u001b[0m\u001b[1;33m\u001b[0m\u001b[1;33m\u001b[0m\u001b[0m\n\u001b[0m",
      "\u001b[1;31mModuleNotFoundError\u001b[0m: No module named 'cv2'"
     ]
    }
   ],
   "source": [
    "import matplotlib.pyplot as plt\n",
    "import numpy as np\n",
    "import os.path\n",
    "import cv2\n"
   ]
  },
  {
   "cell_type": "code",
   "execution_count": 4,
   "metadata": {},
   "outputs": [
    {
     "data": {
      "text/plain": [
       "['C:\\\\Users\\\\melis\\\\Görüntü  İşleme\\\\11.LAB',\n",
       " 'C:\\\\Users\\\\melis\\\\Anaconda3\\\\python37.zip',\n",
       " 'C:\\\\Users\\\\melis\\\\Anaconda3\\\\DLLs',\n",
       " 'C:\\\\Users\\\\melis\\\\Anaconda3\\\\lib',\n",
       " 'C:\\\\Users\\\\melis\\\\Anaconda3',\n",
       " '',\n",
       " 'C:\\\\Users\\\\melis\\\\Anaconda3\\\\lib\\\\site-packages',\n",
       " 'C:\\\\Users\\\\melis\\\\Anaconda3\\\\lib\\\\site-packages\\\\win32',\n",
       " 'C:\\\\Users\\\\melis\\\\Anaconda3\\\\lib\\\\site-packages\\\\win32\\\\lib',\n",
       " 'C:\\\\Users\\\\melis\\\\Anaconda3\\\\lib\\\\site-packages\\\\Pythonwin',\n",
       " 'C:\\\\Users\\\\melis\\\\Anaconda3\\\\lib\\\\site-packages\\\\IPython\\\\extensions',\n",
       " 'C:\\\\Users\\\\melis\\\\.ipython']"
      ]
     },
     "execution_count": 4,
     "metadata": {},
     "output_type": "execute_result"
    }
   ],
   "source": [
    "os.sys.path"
   ]
  },
  {
   "cell_type": "code",
   "execution_count": 6,
   "metadata": {},
   "outputs": [
    {
     "data": {
      "text/plain": [
       "['C:\\\\Users\\\\melis\\\\Görüntü  İşleme\\\\11.LAB',\n",
       " 'C:\\\\Users\\\\melis\\\\Anaconda3\\\\python37.zip',\n",
       " 'C:\\\\Users\\\\melis\\\\Anaconda3\\\\DLLs',\n",
       " 'C:\\\\Users\\\\melis\\\\Anaconda3\\\\lib',\n",
       " 'C:\\\\Users\\\\melis\\\\Anaconda3',\n",
       " '',\n",
       " 'C:\\\\Users\\\\melis\\\\Anaconda3\\\\lib\\\\site-packages',\n",
       " 'C:\\\\Users\\\\melis\\\\Anaconda3\\\\lib\\\\site-packages\\\\win32',\n",
       " 'C:\\\\Users\\\\melis\\\\Anaconda3\\\\lib\\\\site-packages\\\\win32\\\\lib',\n",
       " 'C:\\\\Users\\\\melis\\\\Anaconda3\\\\lib\\\\site-packages\\\\Pythonwin',\n",
       " 'C:\\\\Users\\\\melis\\\\Anaconda3\\\\lib\\\\site-packages\\\\IPython\\\\extensions',\n",
       " 'C:\\\\Users\\\\melis\\\\.ipython']"
      ]
     },
     "execution_count": 6,
     "metadata": {},
     "output_type": "execute_result"
    }
   ],
   "source": [
    "os.sys.path\n"
   ]
  },
  {
   "cell_type": "code",
   "execution_count": 7,
   "metadata": {},
   "outputs": [
    {
     "data": {
      "text/plain": [
       "['.ipynb_checkpoints', 'main_folder', 'Untitled.ipynb']"
      ]
     },
     "execution_count": 7,
     "metadata": {},
     "output_type": "execute_result"
    }
   ],
   "source": [
    "os.listdir()"
   ]
  },
  {
   "cell_type": "code",
   "execution_count": 9,
   "metadata": {},
   "outputs": [
    {
     "data": {
      "text/plain": [
       "'C:\\\\Users\\\\melis\\\\Görüntü  İşleme\\\\11.LAB'"
      ]
     },
     "execution_count": 9,
     "metadata": {},
     "output_type": "execute_result"
    }
   ],
   "source": [
    "os.getcwd()"
   ]
  },
  {
   "cell_type": "code",
   "execution_count": 10,
   "metadata": {},
   "outputs": [],
   "source": [
    "data_main_folder=\"C:\\\\Users\\\\melis\\\\Görüntü  İşleme\\\\11.LAB\\\\main_folder\""
   ]
  },
  {
   "cell_type": "code",
   "execution_count": 11,
   "metadata": {},
   "outputs": [],
   "source": [
    "dirs=[d for d in os.listdir(data_main_folder) if os.path.isdir(os.path.join(data_main_folder))]"
   ]
  },
  {
   "cell_type": "code",
   "execution_count": 12,
   "metadata": {},
   "outputs": [
    {
     "name": "stdout",
     "output_type": "stream",
     "text": [
      "['.ipynb_checkpoints', 'test', 'train']\n"
     ]
    }
   ],
   "source": [
    "print(dirs)\n"
   ]
  },
  {
   "cell_type": "code",
   "execution_count": 22,
   "metadata": {},
   "outputs": [],
   "source": [
    "data_faces_of_class=np.zeros((1000,100*100+1))\n",
    "folder_counter=-1\n",
    "s= -1\n",
    "for directory in dirs:\n",
    "    folder_counter=folder_counter+1\n",
    "    new_folder=data_main_folder+\"/\"+directory\n",
    "    \n",
    "    files=[d for d in os.listdir(new_folder) if os.path.isfile(os.path.join(new_folder))]\n",
    "    for file_ in files:\n",
    "        s=s+1\n",
    "        file_name_with_folder=new_folder+\"/\"+file_\n",
    "        print(file_name_with_folder)\n",
    "        ori_image=cv2.imread(file_name_with_folder)\n",
    "        print(ori_image.shape)\n",
    "        resized_img=cv2.resize(ori_image,(100,100))\n",
    "        print(resized_img.shape)\n",
    "        \n",
    "        image_gray=cv2.cvtColor(resize_img,cv2.COLOR_BGR2GRAY)\n",
    "        print(image_gray.shape)\n",
    "        plt.imshow(image_gray)\n",
    "        plt.show()\n",
    "        \n",
    "        image_gray_one_dim=image_gray.reshape(1,100*100)\n",
    "        print(image_gray_one_dim.shape)\n",
    "        data_faces_of_class[s,0]=folder_counter\n",
    "        data_faces_of_class[s,1:100*100+1]=image_gray_one_dim\n",
    "\n",
    "\n",
    "        cv2.imshow(\"original image\",resized_img)\n",
    "        #cv2.imshow(\"gray image\",image_gray)\n",
    "        #print(dir_,files)"
   ]
  },
  {
   "cell_type": "code",
   "execution_count": 23,
   "metadata": {},
   "outputs": [
    {
     "name": "stdout",
     "output_type": "stream",
     "text": [
      "(1000, 10001)\n"
     ]
    }
   ],
   "source": [
    "print(data_faces_of_class.shape)"
   ]
  },
  {
   "cell_type": "code",
   "execution_count": 24,
   "metadata": {},
   "outputs": [
    {
     "name": "stdout",
     "output_type": "stream",
     "text": [
      "[0. 0. 0. ... 0. 0. 0.]\n"
     ]
    }
   ],
   "source": [
    "print(data_faces_of_class[3])"
   ]
  },
  {
   "cell_type": "code",
   "execution_count": null,
   "metadata": {},
   "outputs": [],
   "source": [
    "#kmeans"
   ]
  }
 ],
 "metadata": {
  "kernelspec": {
   "display_name": "Python 3",
   "language": "python",
   "name": "python3"
  },
  "language_info": {
   "codemirror_mode": {
    "name": "ipython",
    "version": 3
   },
   "file_extension": ".py",
   "mimetype": "text/x-python",
   "name": "python",
   "nbconvert_exporter": "python",
   "pygments_lexer": "ipython3",
   "version": "3.7.4"
  }
 },
 "nbformat": 4,
 "nbformat_minor": 2
}
